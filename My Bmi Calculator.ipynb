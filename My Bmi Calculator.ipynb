{
 "cells": [
  {
   "cell_type": "code",
   "execution_count": 32,
   "id": "7b9e1c5c-baba-450d-a7fd-7f92d7cbcb6b",
   "metadata": {},
   "outputs": [
    {
     "name": "stdin",
     "output_type": "stream",
     "text": [
      "Enter Your Name:  Adekunle\n",
      "Enter your Size in Kilograms:  100\n",
      "Enter your Size in Inches:  45\n"
     ]
    },
    {
     "name": "stdout",
     "output_type": "stream",
     "text": [
      "34.71604938271605\n",
      "Enter Valid Input\n"
     ]
    }
   ],
   "source": [
    "name = input(\"Enter Your Name: \")\n",
    "weight = float(input(\"Enter your Size in Kilograms: \"))\n",
    "height = float(input(\"Enter your Size in Inches: \"))\n",
    "\n",
    "Bmi = (weight * 703) / (height * height)\n",
    "\n",
    "print(Bmi)\n",
    "\n",
    "if Bmi>0:\n",
    "    if(Bmi<18.4):\n",
    "        Print(name +\", Need More Milk\")\n",
    "    elif(Bmi<=24.9):\n",
    "        print(name +\", You Are Good\")\n",
    "    elif(Bmi>=39.9):\n",
    "        print(name +\", Too Much Milk\")\n",
    "    else:\n",
    "        print(\"Enter Valid Input\")"
   ]
  },
  {
   "cell_type": "code",
   "execution_count": 18,
   "id": "efd97e90-04fd-4b9e-990b-67356ee95336",
   "metadata": {},
   "outputs": [
    {
     "name": "stdout",
     "output_type": "stream",
     "text": [
      "22.886998529720646\n"
     ]
    }
   ],
   "source": [
    "print(Bmi)"
   ]
  },
  {
   "cell_type": "code",
   "execution_count": 20,
   "id": "b6f9b196-dc28-4808-bbb6-4775f466161a",
   "metadata": {},
   "outputs": [
    {
     "data": {
      "text/plain": [
       "float"
      ]
     },
     "execution_count": 20,
     "metadata": {},
     "output_type": "execute_result"
    }
   ],
   "source": [
    "type(height)"
   ]
  },
  {
   "cell_type": "code",
   "execution_count": 19,
   "id": "cec0943c-c847-43fd-a8c7-1e33655d8932",
   "metadata": {},
   "outputs": [
    {
     "name": "stdout",
     "output_type": "stream",
     "text": [
      "155.0\n"
     ]
    }
   ],
   "source": [
    "print (weight)"
   ]
  },
  {
   "cell_type": "code",
   "execution_count": null,
   "id": "858046fe-f121-44e6-ab63-b96f1858c2e6",
   "metadata": {},
   "outputs": [],
   "source": [
    "#Bmi = (weight in pounds x 703) / (height in inches x height in inches)"
   ]
  },
  {
   "cell_type": "markdown",
   "id": "721943a8-b291-4ca9-b000-b5e451281e2c",
   "metadata": {},
   "source": [
    "≤ 18.4\tUnderweight\n",
    "18.5 - 24.9\tNormal\n",
    "25.0 - 39.9\tOverweight\n",
    "≥ 40.0\tObese"
   ]
  },
  {
   "cell_type": "code",
   "execution_count": null,
   "id": "7ca344e4-9ce3-44b1-b4f9-82e5245cbe5d",
   "metadata": {},
   "outputs": [],
   "source": []
  },
  {
   "cell_type": "code",
   "execution_count": null,
   "id": "2036c2ca-99d2-4685-9c9b-5d4fc33b8321",
   "metadata": {},
   "outputs": [],
   "source": []
  },
  {
   "cell_type": "code",
   "execution_count": null,
   "id": "5020c74c-0644-4f64-8180-b437b4b570a5",
   "metadata": {},
   "outputs": [],
   "source": []
  },
  {
   "cell_type": "code",
   "execution_count": null,
   "id": "9740cea5-dbcf-41d0-b306-412c9625a617",
   "metadata": {},
   "outputs": [],
   "source": []
  },
  {
   "cell_type": "code",
   "execution_count": null,
   "id": "8df0c087-260b-474c-bdea-39359b794f66",
   "metadata": {},
   "outputs": [],
   "source": []
  },
  {
   "cell_type": "code",
   "execution_count": null,
   "id": "881cc77d-8b73-4b86-91c3-4a67741d7142",
   "metadata": {},
   "outputs": [],
   "source": []
  },
  {
   "cell_type": "code",
   "execution_count": null,
   "id": "31c5ef66-c9a6-4161-8a4a-ace2f72d4b33",
   "metadata": {},
   "outputs": [],
   "source": []
  },
  {
   "cell_type": "code",
   "execution_count": null,
   "id": "f71733cc-7183-4d43-8e35-d73c1f0f3ab3",
   "metadata": {},
   "outputs": [],
   "source": []
  },
  {
   "cell_type": "code",
   "execution_count": null,
   "id": "2c6ff6a8-669c-41c3-9493-8c9f677fba76",
   "metadata": {},
   "outputs": [],
   "source": []
  },
  {
   "cell_type": "code",
   "execution_count": null,
   "id": "b76b01b3-b353-4656-a59c-8093920f1a9f",
   "metadata": {},
   "outputs": [],
   "source": []
  },
  {
   "cell_type": "code",
   "execution_count": null,
   "id": "e35518d3-411b-42e0-9583-2c56e24389ef",
   "metadata": {},
   "outputs": [],
   "source": []
  },
  {
   "cell_type": "code",
   "execution_count": null,
   "id": "cef28211-ad1d-43e9-960e-a33b15fc4c19",
   "metadata": {},
   "outputs": [],
   "source": []
  },
  {
   "cell_type": "code",
   "execution_count": null,
   "id": "415f161a-c9bb-4bd6-b81b-5fafd8a5ac23",
   "metadata": {},
   "outputs": [],
   "source": []
  },
  {
   "cell_type": "code",
   "execution_count": null,
   "id": "9a2d741e-5733-49fe-8d6e-c2ff8cf4a48f",
   "metadata": {},
   "outputs": [],
   "source": []
  },
  {
   "cell_type": "code",
   "execution_count": null,
   "id": "9d4f999a-f10a-4add-b83c-34116b0d596f",
   "metadata": {},
   "outputs": [],
   "source": []
  },
  {
   "cell_type": "code",
   "execution_count": null,
   "id": "2d3c8806-c396-46a4-b3b7-f092ae752d70",
   "metadata": {},
   "outputs": [],
   "source": []
  },
  {
   "cell_type": "code",
   "execution_count": null,
   "id": "031eb040-4c7b-4950-8b82-267f18355eaa",
   "metadata": {},
   "outputs": [],
   "source": []
  },
  {
   "cell_type": "code",
   "execution_count": null,
   "id": "19ce0249-b075-49de-9117-f253b92f279d",
   "metadata": {},
   "outputs": [],
   "source": []
  },
  {
   "cell_type": "code",
   "execution_count": null,
   "id": "0524afe5-2811-41ca-90ca-88b1a67170c8",
   "metadata": {},
   "outputs": [],
   "source": []
  },
  {
   "cell_type": "code",
   "execution_count": null,
   "id": "341300a7-8b7d-4cf9-a8c9-e1a0f7bab047",
   "metadata": {},
   "outputs": [],
   "source": []
  },
  {
   "cell_type": "code",
   "execution_count": null,
   "id": "f0788332-f27e-476c-9c26-401dd432a818",
   "metadata": {},
   "outputs": [],
   "source": []
  },
  {
   "cell_type": "code",
   "execution_count": null,
   "id": "5b3c13c4-9416-44e2-a4b6-b200f2c3ddc5",
   "metadata": {},
   "outputs": [],
   "source": []
  },
  {
   "cell_type": "code",
   "execution_count": null,
   "id": "d88d2289-0541-473e-9a51-7bdfc57d79a5",
   "metadata": {},
   "outputs": [],
   "source": []
  }
 ],
 "metadata": {
  "kernelspec": {
   "display_name": "Python 3 (ipykernel)",
   "language": "python",
   "name": "python3"
  },
  "language_info": {
   "codemirror_mode": {
    "name": "ipython",
    "version": 3
   },
   "file_extension": ".py",
   "mimetype": "text/x-python",
   "name": "python",
   "nbconvert_exporter": "python",
   "pygments_lexer": "ipython3",
   "version": "3.12.4"
  }
 },
 "nbformat": 4,
 "nbformat_minor": 5
}
